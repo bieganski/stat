{
 "cells": [
  {
   "cell_type": "code",
   "execution_count": 1,
   "metadata": {},
   "outputs": [],
   "source": [
    "# Mateusz Biegański\n",
    "# mb385162\n",
    "\n",
    "# SAD 2020-2021 MIMUW"
   ]
  },
  {
   "cell_type": "code",
   "execution_count": 2,
   "metadata": {},
   "outputs": [],
   "source": [
    "# pretty print string formatting\n",
    "library(\"glue\");"
   ]
  },
  {
   "cell_type": "code",
   "execution_count": 7,
   "metadata": {},
   "outputs": [],
   "source": [
    "# Helper functions.\n",
    "\n",
    "m  = function(x) print(methods(class=class(x)))\n",
    "p  = function(x) print(glue(x))\n",
    "ph = function(x) print(head(x))\n",
    "pt = function(x) print(tail(x))\n",
    "pc = function(x) print(class(x))\n",
    "id = function(x) x\n"
   ]
  },
  {
   "cell_type": "code",
   "execution_count": 41,
   "metadata": {},
   "outputs": [],
   "source": [
    "# Read the data.\n",
    "DATA_FNAME = \"people.tsv\"\n",
    "\n",
    "df <- read.table(DATA_FNAME, header = TRUE,  sep = '\\t',  stringsAsFactors = FALSE)\n",
    "df[which(df$pet == \"none\"),]$pet = NA"
   ]
  }
 ],
 "metadata": {
  "kernelspec": {
   "display_name": "R",
   "language": "R",
   "name": "ir"
  },
  "language_info": {
   "codemirror_mode": "r",
   "file_extension": ".r",
   "mimetype": "text/x-r-source",
   "name": "R",
   "pygments_lexer": "r",
   "version": "4.0.4"
  }
 },
 "nbformat": 4,
 "nbformat_minor": 5
}